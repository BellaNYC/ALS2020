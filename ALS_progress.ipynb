{
 "cells": [
  {
   "cell_type": "code",
   "execution_count": 286,
   "metadata": {},
   "outputs": [],
   "source": [
    "import pandas as pd\n",
    "import numpy as np\n",
    "from sklearn.ensemble import RandomForestClassifier\n",
    "from sklearn.ensemble import VotingClassifier\n",
    "from sklearn.linear_model import LogisticRegression\n",
    "from sklearn.svm import SVC\n",
    "from sklearn.model_selection import train_test_split\n",
    "from sklearn.decomposition import PCA\n",
    "from sklearn.cluster import KMeans\n",
    "import pylab as pl\n",
    "from sklearn.preprocessing import MinMaxScaler\n",
    "from sklearn.ensemble import RandomForestRegressor\n",
    "from sklearn.model_selection import RandomizedSearchCV\n",
    "from sklearn.model_selection import GridSearchCV\n",
    "from sklearn.metrics import mean_squared_error\n",
    "from sklearn.feature_selection import SelectFromModel\n",
    "from sklearn.preprocessing import PolynomialFeatures\n",
    "from sklearn.pipeline import Pipeline\n",
    "from sklearn.linear_model import LinearRegression\n",
    "import xgboost\n",
    "from xgboost.sklearn import XGBRegressor\n",
    "\n",
    "from plotnine import *\n",
    "%matplotlib inline\n",
    "import matplotlib.pyplot as plt"
   ]
  },
  {
   "cell_type": "code",
   "execution_count": 285,
   "metadata": {},
   "outputs": [
    {
     "name": "stdout",
     "output_type": "stream",
     "text": [
      "Collecting xgboost==0.7.post4\n",
      "  Downloading xgboost-0.7.post4.tar.gz (474 kB)\n",
      "\u001b[K     |████████████████████████████████| 474 kB 3.2 MB/s eta 0:00:01\n",
      "\u001b[?25hRequirement already satisfied: numpy in ./env1/lib/python3.7/site-packages (from xgboost==0.7.post4) (1.18.2)\n",
      "Requirement already satisfied: scipy in ./env1/lib/python3.7/site-packages (from xgboost==0.7.post4) (1.4.1)\n",
      "Building wheels for collected packages: xgboost\n",
      "  Building wheel for xgboost (setup.py) ... \u001b[?25ldone\n",
      "\u001b[?25h  Created wheel for xgboost: filename=xgboost-0.7.post4-cp37-cp37m-macosx_10_14_x86_64.whl size=1251765 sha256=f87e7b62ebd2f5947029f7d0dcbc8c592b7402b2ac5a6ad4521e45d9ba8a2187\n",
      "  Stored in directory: /Users/dengshuyang/Library/Caches/pip/wheels/38/79/5a/1891b7a08b632df79c8d679bdb1cb72648fb05910e6e82c532\n",
      "Successfully built xgboost\n",
      "Installing collected packages: xgboost\n",
      "Successfully installed xgboost-0.7.post4\n"
     ]
    }
   ],
   "source": [
    "import sys\n",
    "!pip3 install xgboost==0.7.post4"
   ]
  },
  {
   "cell_type": "markdown",
   "metadata": {},
   "source": [
    "# Load R-preprocessed ALS data"
   ]
  },
  {
   "cell_type": "code",
   "execution_count": 5,
   "metadata": {},
   "outputs": [],
   "source": [
    "als_final = pd.read_csv('ALS_FINAL.csv', index_col=0)"
   ]
  },
  {
   "cell_type": "markdown",
   "metadata": {},
   "source": [
    "# Split train and test dataset"
   ]
  },
  {
   "cell_type": "code",
   "execution_count": 9,
   "metadata": {},
   "outputs": [
    {
     "data": {
      "text/plain": [
       "Index(['subject_id', 'Q1_Speech', 'Q2_Salivation', 'Q3_Swallowing',\n",
       "       'Q4_Handwriting', 'Q5a_Cutting_without_Gastrostomy',\n",
       "       'Q6_Dressing_and_Hygiene', 'Q7_Turning_in_Bed', 'Q8_Walking',\n",
       "       'Q9_Climbing_Stairs', 'Q10_Respiratory', 'ALSFRS_Delta', 'ALSFRS_Total',\n",
       "       'ALSFRS_Slope', 'famhis', 'Age', 'Ethnicity', 'Race_Caucasian', 'Sex',\n",
       "       'Study_Arm', 'Onset_Delta', 'Bulbar_Onset', 'Limb_Bulbar_Onset',\n",
       "       'Limb_Onset', 'Spine_Onset', 'Other_Onset',\n",
       "       'FVC_Subject_Liters_Trial_1', 'Forced_Vital_Capacity_Delta',\n",
       "       'Blood_Pressure_Diastolic', 'Blood_Pressure_Systolic', 'Pulse',\n",
       "       'Respiratory_Rate', 'Temperature', 'Weight', 'Vital_Signs_Delta', 'AEC',\n",
       "       'ALT', 'AST', 'Blood.Urea.Nitrogen..BUN.', 'Chloride', 'Creatinine',\n",
       "       'Glucose', 'Hematocrit', 'Hemoglobin', 'Platelets', 'Potassium', 'RBC',\n",
       "       'Sodium', 'WBC'],\n",
       "      dtype='object')"
      ]
     },
     "execution_count": 9,
     "metadata": {},
     "output_type": "execute_result"
    }
   ],
   "source": [
    "als_final.columns"
   ]
  },
  {
   "cell_type": "code",
   "execution_count": 124,
   "metadata": {},
   "outputs": [
    {
     "data": {
      "text/plain": [
       "-0.49999999999999895"
      ]
     },
     "execution_count": 124,
     "metadata": {},
     "output_type": "execute_result"
    }
   ],
   "source": [
    "als_final['ALSFRS_Slope'].min()"
   ]
  },
  {
   "cell_type": "markdown",
   "metadata": {},
   "source": [
    "### Keep als_12 untouched until making final prediction"
   ]
  },
  {
   "cell_type": "code",
   "execution_count": 10,
   "metadata": {},
   "outputs": [],
   "source": [
    "als_3 = als_final[(als_final['ALSFRS_Delta'] >= 0) & (als_final['ALSFRS_Delta'] <= 90)]\n",
    "als_12 = als_final[(als_final['ALSFRS_Delta'] > 90) & (als_final['ALSFRS_Delta'] <= 366)]"
   ]
  },
  {
   "cell_type": "code",
   "execution_count": 14,
   "metadata": {},
   "outputs": [
    {
     "data": {
      "text/plain": [
       "(633, 49)"
      ]
     },
     "execution_count": 14,
     "metadata": {},
     "output_type": "execute_result"
    }
   ],
   "source": [
    "als_3.shape"
   ]
  },
  {
   "cell_type": "code",
   "execution_count": 15,
   "metadata": {},
   "outputs": [
    {
     "data": {
      "text/plain": [
       "(3421, 49)"
      ]
     },
     "execution_count": 15,
     "metadata": {},
     "output_type": "execute_result"
    }
   ],
   "source": [
    "als_12.shape"
   ]
  },
  {
   "cell_type": "code",
   "execution_count": 24,
   "metadata": {},
   "outputs": [],
   "source": [
    "X = als_3.drop(['subject_id', 'ALSFRS_Slope'],axis=1)\n",
    "y = als_3['ALSFRS_Slope']"
   ]
  },
  {
   "cell_type": "code",
   "execution_count": 30,
   "metadata": {},
   "outputs": [
    {
     "data": {
      "text/plain": [
       "(633, 47)"
      ]
     },
     "execution_count": 30,
     "metadata": {},
     "output_type": "execute_result"
    }
   ],
   "source": [
    "X.shape"
   ]
  },
  {
   "cell_type": "code",
   "execution_count": 31,
   "metadata": {},
   "outputs": [],
   "source": [
    "X_train, X_val, y_train, y_val = train_test_split(X, y, test_size=0.1, random_state=42)"
   ]
  },
  {
   "cell_type": "code",
   "execution_count": 252,
   "metadata": {},
   "outputs": [],
   "source": [
    "X_als12 =als_12.drop(['subject_id', 'ALSFRS_Slope'], axis=1)\n",
    "y_als12 = als_12['ALSFRS_Slope']"
   ]
  },
  {
   "cell_type": "markdown",
   "metadata": {},
   "source": [
    "# Scale and dimensionality reduction"
   ]
  },
  {
   "cell_type": "code",
   "execution_count": 265,
   "metadata": {},
   "outputs": [],
   "source": [
    "# scale\n",
    "scaler = MinMaxScaler()\n",
    "X_train_scaled = scaler.fit_transform(X_train)\n",
    "X_val_scaled = scaler.transform(X_val)"
   ]
  },
  {
   "cell_type": "code",
   "execution_count": 266,
   "metadata": {},
   "outputs": [
    {
     "data": {
      "text/plain": [
       "array([[7.50000000e-01, 7.50000000e-01, 1.00000000e+00, ...,\n",
       "        2.71061729e-06, 4.96478873e-01, 2.42622951e-01],\n",
       "       [0.00000000e+00, 5.00000000e-01, 2.50000000e-01, ...,\n",
       "        2.29425288e-06, 4.15978630e-01, 2.89429056e-01],\n",
       "       [7.50000000e-01, 1.00000000e+00, 5.00000000e-01, ...,\n",
       "        2.36298943e-06, 3.92018779e-01, 5.73770492e-01],\n",
       "       ...,\n",
       "       [2.50000000e-01, 5.00000000e-01, 5.00000000e-01, ...,\n",
       "        2.40183826e-06, 4.27277953e-01, 2.24610238e-01],\n",
       "       [5.00000000e-01, 5.00000000e-01, 5.00000000e-01, ...,\n",
       "        3.01864199e-06, 4.13639733e-01, 3.83904620e-01],\n",
       "       [1.00000000e+00, 1.00000000e+00, 1.00000000e+00, ...,\n",
       "        2.54428396e-06, 4.92957746e-01, 2.22950820e-01]])"
      ]
     },
     "execution_count": 266,
     "metadata": {},
     "output_type": "execute_result"
    }
   ],
   "source": [
    "X_train_scaled"
   ]
  },
  {
   "cell_type": "code",
   "execution_count": 83,
   "metadata": {},
   "outputs": [],
   "source": [
    "pca = PCA(n_components=0.95)\n",
    "X_train_reduced = pca.fit_transform(X_train_scaled)"
   ]
  },
  {
   "cell_type": "code",
   "execution_count": 102,
   "metadata": {},
   "outputs": [],
   "source": [
    "X_val_reduced = pca.transform(X_val_scaled)"
   ]
  },
  {
   "cell_type": "code",
   "execution_count": 84,
   "metadata": {},
   "outputs": [
    {
     "data": {
      "text/plain": [
       "25"
      ]
     },
     "execution_count": 84,
     "metadata": {},
     "output_type": "execute_result"
    }
   ],
   "source": [
    "pca.n_components_"
   ]
  },
  {
   "cell_type": "code",
   "execution_count": 85,
   "metadata": {},
   "outputs": [
    {
     "data": {
      "text/plain": [
       "(569, 25)"
      ]
     },
     "execution_count": 85,
     "metadata": {},
     "output_type": "execute_result"
    }
   ],
   "source": [
    "X_train_reduced.shape"
   ]
  },
  {
   "cell_type": "code",
   "execution_count": 86,
   "metadata": {},
   "outputs": [
    {
     "data": {
      "text/plain": [
       "0.9544065720832176"
      ]
     },
     "execution_count": 86,
     "metadata": {},
     "output_type": "execute_result"
    }
   ],
   "source": [
    "np.sum(pca.explained_variance_ratio_)"
   ]
  },
  {
   "cell_type": "code",
   "execution_count": 87,
   "metadata": {},
   "outputs": [
    {
     "data": {
      "image/png": "[encoded data removed]",
      "text/plain": [
       "<Figure size 864x432 with 1 Axes>"
      ]
     },
     "metadata": {
      "needs_background": "light"
     },
     "output_type": "display_data"
    }
   ],
   "source": [
    "plt.rcParams['figure.figsize'] = (12,6)\n",
    "fig, ax = plt.subplots()\n",
    "xi = np.arange(1,26,step=1)\n",
    "y = np.cumsum(pca.explained_variance_ratio_)\n",
    "plt.ylim(0.0,1.1)\n",
    "plt.plot(xi, y, marker='o', linestyle='--', color='b')\n",
    "plt.xlabel('Number of Components')\n",
    "plt.xticks(np.arange(0, 26, step=1)) #change from 0-based array index to 1-based human-readable label\n",
    "plt.ylabel('Cumulative variance (%)')\n",
    "plt.title('The number of components needed to explain variance')\n",
    "plt.axhline(y=0.95, color='r', linestyle='-')\n",
    "plt.text(0.5, 0.85, '95% cut-off threshold', color = 'red', fontsize=16)\n",
    "\n",
    "ax.grid(axis='x')\n",
    "plt.show()"
   ]
  },
  {
   "cell_type": "markdown",
   "metadata": {},
   "source": [
    "# Train different models, predict, and evaluate"
   ]
  },
  {
   "cell_type": "markdown",
   "metadata": {},
   "source": [
    "## Random forest"
   ]
  },
  {
   "cell_type": "code",
   "execution_count": 93,
   "metadata": {},
   "outputs": [
    {
     "name": "stdout",
     "output_type": "stream",
     "text": [
      "{'n_estimators': [200, 400, 600, 800, 1000, 1200, 1400, 1600, 1800, 2000], 'max_features': ['auto', 'log2'], 'max_depth': [10, 20, 30, 40, 50, 60, 70, 80, 90, 100, 110, None], 'min_samples_split': [2, 5, 10], 'min_samples_leaf': [1, 2, 4], 'bootstrap': [True, False]}\n"
     ]
    }
   ],
   "source": [
    "# Number of trees in random forest\n",
    "n_estimators = [int(x) for x in np.linspace(start = 200, stop = 2000, num = 10)]\n",
    "# Number of features to consider at every split\n",
    "max_features = ['auto', 'log2']\n",
    "# Maximum number of levels in tree\n",
    "max_depth = [int(x) for x in np.linspace(10, 110, num = 11)]\n",
    "max_depth.append(None)\n",
    "# Minimum number of samples required to split a node\n",
    "min_samples_split = [2, 5, 10]\n",
    "# Minimum number of samples required at each leaf node\n",
    "min_samples_leaf = [1, 2, 4]\n",
    "# Method of selecting samples for training each tree\n",
    "bootstrap = [True, False]\n",
    "\n",
    "random_grid = {'n_estimators': n_estimators,\n",
    "               'max_features': max_features,\n",
    "               'max_depth': max_depth,\n",
    "               'min_samples_split': min_samples_split,\n",
    "               'min_samples_leaf': min_samples_leaf,\n",
    "               'bootstrap': bootstrap}\n",
    "print(random_grid)"
   ]
  },
  {
   "cell_type": "code",
   "execution_count": 94,
   "metadata": {},
   "outputs": [
    {
     "name": "stdout",
     "output_type": "stream",
     "text": [
      "Fitting 3 folds for each of 100 candidates, totalling 300 fits\n"
     ]
    },
    {
     "name": "stderr",
     "output_type": "stream",
     "text": [
      "[Parallel(n_jobs=-1)]: Using backend LokyBackend with 4 concurrent workers.\n",
      "[Parallel(n_jobs=-1)]: Done  33 tasks      | elapsed:   52.2s\n",
      "[Parallel(n_jobs=-1)]: Done 154 tasks      | elapsed:  3.6min\n",
      "[Parallel(n_jobs=-1)]: Done 300 out of 300 | elapsed:  7.7min finished\n"
     ]
    },
    {
     "data": {
      "text/plain": [
       "RandomizedSearchCV(cv=3, error_score=nan,\n",
       "                   estimator=RandomForestRegressor(bootstrap=True,\n",
       "                                                   ccp_alpha=0.0,\n",
       "                                                   criterion='mse',\n",
       "                                                   max_depth=None,\n",
       "                                                   max_features='auto',\n",
       "                                                   max_leaf_nodes=None,\n",
       "                                                   max_samples=None,\n",
       "                                                   min_impurity_decrease=0.0,\n",
       "                                                   min_impurity_split=None,\n",
       "                                                   min_samples_leaf=1,\n",
       "                                                   min_samples_split=2,\n",
       "                                                   min_weight_fraction_leaf=0.0,\n",
       "                                                   n_estimators=100,\n",
       "                                                   n_jobs=None, oob_score=Fals...\n",
       "                   param_distributions={'bootstrap': [True, False],\n",
       "                                        'max_depth': [10, 20, 30, 40, 50, 60,\n",
       "                                                      70, 80, 90, 100, 110,\n",
       "                                                      None],\n",
       "                                        'max_features': ['auto', 'log2'],\n",
       "                                        'min_samples_leaf': [1, 2, 4],\n",
       "                                        'min_samples_split': [2, 5, 10],\n",
       "                                        'n_estimators': [200, 400, 600, 800,\n",
       "                                                         1000, 1200, 1400, 1600,\n",
       "                                                         1800, 2000]},\n",
       "                   pre_dispatch='2*n_jobs', random_state=42, refit=True,\n",
       "                   return_train_score=False, scoring=None, verbose=2)"
      ]
     },
     "execution_count": 94,
     "metadata": {},
     "output_type": "execute_result"
    }
   ],
   "source": [
    "rnd_reg = RandomForestRegressor()\n",
    "rnd_search = RandomizedSearchCV(estimator = rnd_reg, param_distributions=random_grid,\n",
    "                               n_iter = 100, cv=3, verbose=2, random_state=42, n_jobs=-1)\n",
    "rnd_search.fit(X_train_reduced, y_train)"
   ]
  },
  {
   "cell_type": "code",
   "execution_count": 96,
   "metadata": {},
   "outputs": [
    {
     "name": "stdout",
     "output_type": "stream",
     "text": [
      "{'n_estimators': 600, 'min_samples_split': 2, 'min_samples_leaf': 4, 'max_features': 'log2', 'max_depth': 60, 'bootstrap': False}\n"
     ]
    }
   ],
   "source": [
    "print(rnd_search.best_params_)"
   ]
  },
  {
   "cell_type": "code",
   "execution_count": 105,
   "metadata": {},
   "outputs": [
    {
     "data": {
      "text/plain": [
       "0.08986370484355159"
      ]
     },
     "execution_count": 105,
     "metadata": {},
     "output_type": "execute_result"
    }
   ],
   "source": [
    "best_model = rnd_search.best_estimator_\n",
    "val_pred = best_model.predict(X_val_reduced)\n",
    "val_mse = mean_squared_error(y_val, val_pred)\n",
    "val_rmse = np.sqrt(val_mse)\n",
    "val_rmse"
   ]
  },
  {
   "cell_type": "code",
   "execution_count": 125,
   "metadata": {},
   "outputs": [
    {
     "data": {
      "text/plain": [
       "0.029990637598505707"
      ]
     },
     "execution_count": 125,
     "metadata": {},
     "output_type": "execute_result"
    }
   ],
   "source": [
    "train_mse = mean_squared_error(y_train, best_model.predict(X_train_reduced))\n",
    "train_rmse = np.sqrt(train_mse)\n",
    "train_rmse"
   ]
  },
  {
   "cell_type": "code",
   "execution_count": 110,
   "metadata": {},
   "outputs": [],
   "source": [
    "feat_labels = list(X_train.columns)"
   ]
  },
  {
   "cell_type": "code",
   "execution_count": 271,
   "metadata": {},
   "outputs": [
    {
     "data": {
      "text/plain": [
       "Pipeline(memory=None,\n",
       "         steps=[('scaler', MinMaxScaler(copy=True, feature_range=(0, 1))),\n",
       "                ('pca',\n",
       "                 PCA(copy=True, iterated_power='auto', n_components=0.95,\n",
       "                     random_state=None, svd_solver='auto', tol=0.0,\n",
       "                     whiten=False)),\n",
       "                ('rnd_reg',\n",
       "                 RandomForestRegressor(bootstrap=False, ccp_alpha=0.0,\n",
       "                                       criterion='mse', max_depth=60,\n",
       "                                       max_features='log2', max_leaf_nodes=None,\n",
       "                                       max_samples=None,\n",
       "                                       min_impurity_decrease=0.0,\n",
       "                                       min_impurity_split=None,\n",
       "                                       min_samples_leaf=4, min_samples_split=2,\n",
       "                                       min_weight_fraction_leaf=0.0,\n",
       "                                       n_estimators=600, n_jobs=None,\n",
       "                                       oob_score=False, random_state=None,\n",
       "                                       verbose=0, warm_start=False))],\n",
       "         verbose=False)"
      ]
     },
     "execution_count": 271,
     "metadata": {},
     "output_type": "execute_result"
    }
   ],
   "source": [
    "# pipeline for random forest\n",
    "best_model = rnd_search.best_estimator_\n",
    "rnd_pipeline = Pipeline((\n",
    "    ('scaler', MinMaxScaler()),\n",
    "    ('pca', PCA(n_components=0.95)),\n",
    "    ('rnd_reg', RandomForestRegressor(n_estimators=600, min_samples_split=2, min_samples_leaf=4,\n",
    "                                     max_features='log2', max_depth=60, bootstrap=False)),\n",
    "))\n",
    "\n",
    "rnd_pipeline.fit(X_train, y_train)\n"
   ]
  },
  {
   "cell_type": "code",
   "execution_count": 272,
   "metadata": {},
   "outputs": [
    {
     "data": {
      "text/plain": [
       "array([-0.01608203, -0.04033302, -0.0537161 , -0.05179977, -0.05471165,\n",
       "       -0.09089914, -0.09861718, -0.03459989, -0.04459834, -0.06568264,\n",
       "       -0.07725575, -0.05508015, -0.02347151, -0.02902384, -0.10810949,\n",
       "       -0.04036205, -0.05964025, -0.03844372, -0.06166476, -0.06463776,\n",
       "       -0.05478563, -0.04527669, -0.06694169, -0.08998567, -0.02335858,\n",
       "       -0.05393766, -0.06662274, -0.04857043, -0.05384202, -0.05707875,\n",
       "       -0.05203287, -0.03761901, -0.09642392, -0.0976569 , -0.04948735,\n",
       "       -0.0164694 , -0.05836619, -0.03919128, -0.0380731 , -0.05758872,\n",
       "       -0.03249632, -0.06339729, -0.06236187, -0.02800807, -0.05329813,\n",
       "       -0.05412639, -0.03133116, -0.07165593, -0.06745753, -0.03216187,\n",
       "       -0.0515758 , -0.01770274, -0.03237021, -0.04747716, -0.04111623,\n",
       "       -0.01980604, -0.07434177, -0.05832643, -0.05473717, -0.06153742,\n",
       "       -0.03093913, -0.04115136, -0.07948988, -0.06272926])"
      ]
     },
     "execution_count": 272,
     "metadata": {},
     "output_type": "execute_result"
    }
   ],
   "source": [
    "rnd_pipeline.predict(X_val)"
   ]
  },
  {
   "cell_type": "code",
   "execution_count": 273,
   "metadata": {},
   "outputs": [
    {
     "data": {
      "text/plain": [
       "0.09001106381326686"
      ]
     },
     "execution_count": 273,
     "metadata": {},
     "output_type": "execute_result"
    }
   ],
   "source": [
    "val_pred = rnd_pipeline.predict(X_val)\n",
    "val_mse = mean_squared_error(y_val, val_pred)\n",
    "val_rmse = np.sqrt(val_mse)\n",
    "val_rmse"
   ]
  },
  {
   "cell_type": "code",
   "execution_count": 274,
   "metadata": {},
   "outputs": [
    {
     "data": {
      "text/plain": [
       "0.029975445711597187"
      ]
     },
     "execution_count": 274,
     "metadata": {},
     "output_type": "execute_result"
    }
   ],
   "source": [
    "train_mse = mean_squared_error(y_train, rnd_pipeline.predict(X_train))\n",
    "train_rmse = np.sqrt(train_mse)\n",
    "train_rmse"
   ]
  },
  {
   "cell_type": "markdown",
   "metadata": {},
   "source": [
    "#### final als12 rnd prediction"
   ]
  },
  {
   "cell_type": "code",
   "execution_count": 275,
   "metadata": {},
   "outputs": [
    {
     "data": {
      "text/plain": [
       "0.028590245808524463"
      ]
     },
     "execution_count": 275,
     "metadata": {},
     "output_type": "execute_result"
    }
   ],
   "source": [
    "# final prediction on als12\n",
    "als12_pred = rnd_pipeline.predict(X_als12)\n",
    "als12_rnd_mse = mean_squared_error(y_als12, als12_pred)\n",
    "als12_rnd_rmse = np.sqrt(als12_rnd_mse)\n",
    "als12_rnd_rmse"
   ]
  },
  {
   "cell_type": "markdown",
   "metadata": {},
   "source": [
    "### Select best param train X_train without pca to compare differences, finding that pca didn't help, made it worse instead"
   ]
  },
  {
   "cell_type": "code",
   "execution_count": null,
   "metadata": {},
   "outputs": [],
   "source": [
    "rnd_reg = RandomForestRegressor()\n",
    "rnd_search2 = RandomizedSearchCV(estimator = rnd_reg, param_distributions=random_grid,\n",
    "                               n_iter = 100, cv=3, verbose=2, random_state=42, n_jobs=-1)\n",
    "rnd_search2.fit(X_train_reduced, y_train)"
   ]
  },
  {
   "cell_type": "code",
   "execution_count": 115,
   "metadata": {},
   "outputs": [
    {
     "data": {
      "text/plain": [
       "0.08683256055082589"
      ]
     },
     "execution_count": 115,
     "metadata": {},
     "output_type": "execute_result"
    }
   ],
   "source": [
    "best_model2 = rnd_search2.best_estimator_\n",
    "val_pred = best_model2.predict(X_val)\n",
    "val_mse = mean_squared_error(y_val, val_pred)\n",
    "val_rmse = np.sqrt(val_mse)\n",
    "val_rmse\n"
   ]
  },
  {
   "cell_type": "code",
   "execution_count": 126,
   "metadata": {},
   "outputs": [
    {
     "data": {
      "text/plain": [
       "0.03164477413723092"
      ]
     },
     "execution_count": 126,
     "metadata": {},
     "output_type": "execute_result"
    }
   ],
   "source": [
    "train_mse2 = mean_squared_error(y_train, best_model2.predict(X_train))\n",
    "train_rmse2 = np.sqrt(train_mse2)\n",
    "train_rmse2"
   ]
  },
  {
   "cell_type": "code",
   "execution_count": 136,
   "metadata": {},
   "outputs": [
    {
     "data": {
      "text/plain": [
       "[('Onset_Delta', 0.07005801137590927),\n",
       " ('ALSFRS_Total', 0.06329090980875825),\n",
       " ('ALSFRS_Delta', 0.06203140958199509),\n",
       " ('Vital_Signs_Delta', 0.052712576323842346),\n",
       " ('Q3_Swallowing', 0.05102536415774912),\n",
       " ('Forced_Vital_Capacity_Delta', 0.0473584628209834),\n",
       " ('Respiratory_Rate', 0.037004401748247776),\n",
       " ('Q7_Turning_in_Bed', 0.02765729557818819),\n",
       " ('FVC_Subject_Liters_Trial_1', 0.026412182205628038),\n",
       " ('Sodium', 0.025215355105975192),\n",
       " ('Blood.Urea.Nitrogen..BUN.', 0.024994741668698955),\n",
       " ('Creatinine', 0.024325735404279798),\n",
       " ('Hematocrit', 0.024174464353539316),\n",
       " ('ALT', 0.02346595305906621),\n",
       " ('Weight', 0.0223624036291802),\n",
       " ('Chloride', 0.022321303815135578),\n",
       " ('Potassium', 0.02184456664613198),\n",
       " ('Glucose', 0.021427408871311934),\n",
       " ('Hemoglobin', 0.02134273956826216),\n",
       " ('AEC', 0.02119959550436244),\n",
       " ('Temperature', 0.02115384179038269),\n",
       " ('AST', 0.020855247079023136),\n",
       " ('Q6_Dressing_and_Hygiene', 0.019702179854330638),\n",
       " ('Age', 0.019648174585232797),\n",
       " ('Blood_Pressure_Systolic', 0.019470805112884147),\n",
       " ('Pulse', 0.018617474162640372),\n",
       " ('RBC', 0.018595383973921627),\n",
       " ('Q1_Speech', 0.018454930087914576),\n",
       " ('WBC', 0.01844594794279649),\n",
       " ('Blood_Pressure_Diastolic', 0.017603019368861432),\n",
       " ('Q2_Salivation', 0.017430774775682736),\n",
       " ('Q10_Respiratory', 0.016932982227583514),\n",
       " ('Platelets', 0.01626736998974431),\n",
       " ('Q5a_Cutting_without_Gastrostomy', 0.013669295252392119),\n",
       " ('Q9_Climbing_Stairs', 0.011350618357513694),\n",
       " ('Ethnicity', 0.010475576610335522),\n",
       " ('Q8_Walking', 0.007814479013247768),\n",
       " ('Q4_Handwriting', 0.007366492516087438),\n",
       " ('Study_Arm', 0.006336673473099162),\n",
       " ('Limb_Onset', 0.0036871989696652973),\n",
       " ('Sex', 0.003038410664526163),\n",
       " ('Bulbar_Onset', 0.0011337780081553926),\n",
       " ('Race_Caucasian', 0.000853910081273413),\n",
       " ('famhis', 0.000666408154084531),\n",
       " ('Limb_Bulbar_Onset', 0.00020414672137592196),\n",
       " ('Spine_Onset', 0.0),\n",
       " ('Other_Onset', 0.0)]"
      ]
     },
     "execution_count": 136,
     "metadata": {},
     "output_type": "execute_result"
    }
   ],
   "source": [
    "features = []\n",
    "for feature in zip(feat_labels, best_model2.feature_importances_):\n",
    "    features.append(feature)\n",
    "    #print(feature)\n",
    "#features\n",
    "sorted_feature = sorted(features, reverse=True, key=lambda x: x[1])\n",
    "sorted_feature"
   ]
  },
  {
   "cell_type": "markdown",
   "metadata": {},
   "source": [
    "# Select most important features to train again"
   ]
  },
  {
   "cell_type": "code",
   "execution_count": 139,
   "metadata": {},
   "outputs": [
    {
     "data": {
      "text/plain": [
       "SelectFromModel(estimator=RandomForestRegressor(bootstrap=False, ccp_alpha=0.0,\n",
       "                                                criterion='mse', max_depth=60,\n",
       "                                                max_features='log2',\n",
       "                                                max_leaf_nodes=None,\n",
       "                                                max_samples=None,\n",
       "                                                min_impurity_decrease=0.0,\n",
       "                                                min_impurity_split=None,\n",
       "                                                min_samples_leaf=4,\n",
       "                                                min_samples_split=2,\n",
       "                                                min_weight_fraction_leaf=0.0,\n",
       "                                                n_estimators=600, n_jobs=None,\n",
       "                                                oob_score=False,\n",
       "                                                random_state=None, verbose=0,\n",
       "                                                warm_start=False),\n",
       "                max_features=None, norm_order=1, prefit=False, threshold=0.04)"
      ]
     },
     "execution_count": 139,
     "metadata": {},
     "output_type": "execute_result"
    }
   ],
   "source": [
    "sfm = SelectFromModel(best_model2, threshold=0.04)\n",
    "sfm.fit(X_train, y_train)"
   ]
  },
  {
   "cell_type": "code",
   "execution_count": 140,
   "metadata": {},
   "outputs": [
    {
     "name": "stdout",
     "output_type": "stream",
     "text": [
      "Q3_Swallowing\n",
      "ALSFRS_Delta\n",
      "ALSFRS_Total\n",
      "Onset_Delta\n",
      "Forced_Vital_Capacity_Delta\n",
      "Vital_Signs_Delta\n"
     ]
    }
   ],
   "source": [
    "for feature_list_index in sfm.get_support(indices=True):\n",
    "    print(feat_labels[feature_list_index])"
   ]
  },
  {
   "cell_type": "code",
   "execution_count": 142,
   "metadata": {},
   "outputs": [],
   "source": [
    "X_important_train = sfm.transform(X_train)\n",
    "X_important_val = sfm.transform(X_val)"
   ]
  },
  {
   "cell_type": "code",
   "execution_count": 143,
   "metadata": {},
   "outputs": [
    {
     "name": "stdout",
     "output_type": "stream",
     "text": [
      "Fitting 3 folds for each of 100 candidates, totalling 300 fits\n"
     ]
    },
    {
     "name": "stderr",
     "output_type": "stream",
     "text": [
      "[Parallel(n_jobs=-1)]: Using backend LokyBackend with 4 concurrent workers.\n",
      "[Parallel(n_jobs=-1)]: Done  33 tasks      | elapsed:   30.0s\n",
      "[Parallel(n_jobs=-1)]: Done 154 tasks      | elapsed:  1.9min\n",
      "[Parallel(n_jobs=-1)]: Done 300 out of 300 | elapsed:  3.5min finished\n"
     ]
    },
    {
     "data": {
      "text/plain": [
       "RandomizedSearchCV(cv=3, error_score=nan,\n",
       "                   estimator=RandomForestRegressor(bootstrap=True,\n",
       "                                                   ccp_alpha=0.0,\n",
       "                                                   criterion='mse',\n",
       "                                                   max_depth=None,\n",
       "                                                   max_features='auto',\n",
       "                                                   max_leaf_nodes=None,\n",
       "                                                   max_samples=None,\n",
       "                                                   min_impurity_decrease=0.0,\n",
       "                                                   min_impurity_split=None,\n",
       "                                                   min_samples_leaf=1,\n",
       "                                                   min_samples_split=2,\n",
       "                                                   min_weight_fraction_leaf=0.0,\n",
       "                                                   n_estimators=100,\n",
       "                                                   n_jobs=None, oob_score=Fals...\n",
       "                   param_distributions={'bootstrap': [True, False],\n",
       "                                        'max_depth': [10, 20, 30, 40, 50, 60,\n",
       "                                                      70, 80, 90, 100, 110,\n",
       "                                                      None],\n",
       "                                        'max_features': ['auto', 'log2'],\n",
       "                                        'min_samples_leaf': [1, 2, 4],\n",
       "                                        'min_samples_split': [2, 5, 10],\n",
       "                                        'n_estimators': [200, 400, 600, 800,\n",
       "                                                         1000, 1200, 1400, 1600,\n",
       "                                                         1800, 2000]},\n",
       "                   pre_dispatch='2*n_jobs', random_state=42, refit=True,\n",
       "                   return_train_score=False, scoring=None, verbose=2)"
      ]
     },
     "execution_count": 143,
     "metadata": {},
     "output_type": "execute_result"
    }
   ],
   "source": [
    "rnd_reg_imp = RandomForestRegressor()\n",
    "rnd_search_imp = RandomizedSearchCV(estimator = rnd_reg_imp, param_distributions=random_grid,\n",
    "                               n_iter = 100, cv=3, verbose=2, random_state=42, n_jobs=-1)\n",
    "rnd_search_imp.fit(X_important_train, y_train)"
   ]
  },
  {
   "cell_type": "code",
   "execution_count": 144,
   "metadata": {},
   "outputs": [
    {
     "data": {
      "text/plain": [
       "0.08599932922856614"
      ]
     },
     "execution_count": 144,
     "metadata": {},
     "output_type": "execute_result"
    }
   ],
   "source": [
    "# test rmse\n",
    "best_model_imp = rnd_search_imp.best_estimator_\n",
    "val_pred_imp = best_model_imp.predict(X_important_val)\n",
    "val_mse_imp = mean_squared_error(y_val, val_pred_imp)\n",
    "val_rmse_imp = np.sqrt(val_mse_imp)\n",
    "val_rmse_imp"
   ]
  },
  {
   "cell_type": "code",
   "execution_count": 146,
   "metadata": {},
   "outputs": [
    {
     "data": {
      "text/plain": [
       "0.04730352663137021"
      ]
     },
     "execution_count": 146,
     "metadata": {},
     "output_type": "execute_result"
    }
   ],
   "source": [
    "# train rmse\n",
    "train_mse_imp = mean_squared_error(y_train, best_model_imp.predict(X_important_train))\n",
    "train_rmse_imp = np.sqrt(train_mse_imp)\n",
    "train_rmse_imp"
   ]
  },
  {
   "cell_type": "code",
   "execution_count": 149,
   "metadata": {},
   "outputs": [
    {
     "data": {
      "text/plain": [
       "-0.053274895989661494"
      ]
     },
     "execution_count": 149,
     "metadata": {},
     "output_type": "execute_result"
    }
   ],
   "source": [
    "np.mean(val_pred_imp)"
   ]
  },
  {
   "cell_type": "code",
   "execution_count": 159,
   "metadata": {},
   "outputs": [
    {
     "data": {
      "image/png": "[encoded data removed]",
      "text/plain": [
       "<Figure size 432x288 with 1 Axes>"
      ]
     },
     "metadata": {
      "needs_background": "light"
     },
     "output_type": "display_data"
    }
   ],
   "source": [
    "#plt.scatter(best_model_imp.predict(X_important_train), y_train, color='blue')\n",
    "plt.plot(best_model_imp.predict(X_important_train), y_train, 'o')\n",
    "m, b = np.polyfit(best_model_imp.predict(X_important_train), y_train, 1)\n",
    "plt.plot(best_model_imp.predict(X_important_train), m*best_model_imp.predict(X_important_train) + b)\n",
    "plt.title(\"Actual vs Prediction (Training set)\")\n",
    "plt.xlabel(\"Prediction\")\n",
    "plt.ylabel(\"Actual\")\n",
    "plt.show()"
   ]
  },
  {
   "cell_type": "code",
   "execution_count": 167,
   "metadata": {},
   "outputs": [],
   "source": [
    "plot_data1 = {'actuals': y_train, 'predictions': best_model_imp.predict(X_important_train)}\n",
    "plot_data = pd.DataFrame(plot_data1)"
   ]
  },
  {
   "cell_type": "code",
   "execution_count": 188,
   "metadata": {},
   "outputs": [
    {
     "data": {
      "image/png": "[encoded data removed]",
      "text/plain": [
       "<Figure size 640x480 with 1 Axes>"
      ]
     },
     "metadata": {},
     "output_type": "display_data"
    },
    {
     "data": {
      "text/plain": [
       "<ggplot: (317895842)>"
      ]
     },
     "execution_count": 188,
     "metadata": {},
     "output_type": "execute_result"
    }
   ],
   "source": [
    "fig = (\n",
    "    ggplot(plot_data) +\n",
    "    geom_point(\n",
    "        aes(x = 'predictions',\n",
    "            y = 'actuals'),\n",
    "        alpha = 0.5,\n",
    "        color = 'brown'\n",
    "    ) +\n",
    "    geom_smooth(\n",
    "        aes(x = 'predictions',\n",
    "            y = 'actuals'),\n",
    "        color = 'orange',\n",
    "        size=1\n",
    "    )\n",
    ")\n",
    "fig"
   ]
  },
  {
   "cell_type": "code",
   "execution_count": 168,
   "metadata": {},
   "outputs": [
    {
     "data": {
      "text/html": [
       "<div>\n",
       "<style scoped>\n",
       "    .dataframe tbody tr th:only-of-type {\n",
       "        vertical-align: middle;\n",
       "    }\n",
       "\n",
       "    .dataframe tbody tr th {\n",
       "        vertical-align: top;\n",
       "    }\n",
       "\n",
       "    .dataframe thead th {\n",
       "        text-align: right;\n",
       "    }\n",
       "</style>\n",
       "<table border=\"1\" class=\"dataframe\">\n",
       "  <thead>\n",
       "    <tr style=\"text-align: right;\">\n",
       "      <th></th>\n",
       "      <th>actuals</th>\n",
       "      <th>predictions</th>\n",
       "    </tr>\n",
       "  </thead>\n",
       "  <tbody>\n",
       "    <tr>\n",
       "      <th>1517</th>\n",
       "      <td>-0.036042</td>\n",
       "      <td>-0.032529</td>\n",
       "    </tr>\n",
       "    <tr>\n",
       "      <th>1730</th>\n",
       "      <td>-0.053660</td>\n",
       "      <td>-0.064681</td>\n",
       "    </tr>\n",
       "    <tr>\n",
       "      <th>355</th>\n",
       "      <td>-0.142857</td>\n",
       "      <td>-0.101557</td>\n",
       "    </tr>\n",
       "    <tr>\n",
       "      <th>2480</th>\n",
       "      <td>-0.030692</td>\n",
       "      <td>-0.032163</td>\n",
       "    </tr>\n",
       "    <tr>\n",
       "      <th>3482</th>\n",
       "      <td>-0.162663</td>\n",
       "      <td>-0.088947</td>\n",
       "    </tr>\n",
       "    <tr>\n",
       "      <th>...</th>\n",
       "      <td>...</td>\n",
       "      <td>...</td>\n",
       "    </tr>\n",
       "    <tr>\n",
       "      <th>439</th>\n",
       "      <td>-0.192308</td>\n",
       "      <td>-0.145383</td>\n",
       "    </tr>\n",
       "    <tr>\n",
       "      <th>651</th>\n",
       "      <td>-0.053087</td>\n",
       "      <td>-0.089791</td>\n",
       "    </tr>\n",
       "    <tr>\n",
       "      <th>1663</th>\n",
       "      <td>-0.017407</td>\n",
       "      <td>-0.063594</td>\n",
       "    </tr>\n",
       "    <tr>\n",
       "      <th>2742</th>\n",
       "      <td>-0.157303</td>\n",
       "      <td>-0.118447</td>\n",
       "    </tr>\n",
       "    <tr>\n",
       "      <th>626</th>\n",
       "      <td>0.153846</td>\n",
       "      <td>0.004231</td>\n",
       "    </tr>\n",
       "  </tbody>\n",
       "</table>\n",
       "<p>569 rows × 2 columns</p>\n",
       "</div>"
      ],
      "text/plain": [
       "       actuals  predictions\n",
       "1517 -0.036042    -0.032529\n",
       "1730 -0.053660    -0.064681\n",
       "355  -0.142857    -0.101557\n",
       "2480 -0.030692    -0.032163\n",
       "3482 -0.162663    -0.088947\n",
       "...        ...          ...\n",
       "439  -0.192308    -0.145383\n",
       "651  -0.053087    -0.089791\n",
       "1663 -0.017407    -0.063594\n",
       "2742 -0.157303    -0.118447\n",
       "626   0.153846     0.004231\n",
       "\n",
       "[569 rows x 2 columns]"
      ]
     },
     "execution_count": 168,
     "metadata": {},
     "output_type": "execute_result"
    }
   ],
   "source": [
    "# final prediction on als12\n",
    "best_model_imp = rnd_search_imp.best_estimator_\n",
    "val_pred_imp = best_model_imp.predict(X_als12)\n",
    "val_mse_imp = mean_squared_error(y_val, val_pred_imp)\n",
    "val_rmse_imp = np.sqrt(val_mse_imp)\n",
    "val_rmse_imp"
   ]
  },
  {
   "cell_type": "markdown",
   "metadata": {},
   "source": [
    "## Polynomial regression"
   ]
  },
  {
   "cell_type": "code",
   "execution_count": 234,
   "metadata": {},
   "outputs": [
    {
     "name": "stdout",
     "output_type": "stream",
     "text": [
      "Best degree 1 with RMSE 0.08984950352810746\n"
     ]
    },
    {
     "data": {
      "image/png": "[encoded data removed]",
      "text/plain": [
       "<Figure size 432x288 with 1 Axes>"
      ]
     },
     "metadata": {
      "needs_background": "light"
     },
     "output_type": "display_data"
    }
   ],
   "source": [
    "# Choose the best degree parameter\n",
    "rmses = []\n",
    "degrees = np.arange(1,5)\n",
    "min_rmse, min_deg = 1e10, 0\n",
    "for deg in degrees:\n",
    "    poly_features = PolynomialFeatures(degree=deg, include_bias=False)\n",
    "    X_poly_train = poly_features.fit_transform(X_train_scaled)\n",
    "    \n",
    "    poly_reg = LinearRegression()\n",
    "    poly_reg.fit(X_poly_train, y_train)\n",
    "    \n",
    "    X_poly_val = poly_features.fit_transform(X_val_scaled)\n",
    "    poly_predict = poly_reg.predict(X_poly_val)\n",
    "    poly_mse = mean_squared_error(y_val, poly_predict)\n",
    "    poly_rmse = np.sqrt(poly_mse)\n",
    "    rmses.append(poly_rmse)\n",
    "    \n",
    "    if min_rmse > poly_rmse:\n",
    "        min_rmse = poly_rmse\n",
    "        min_deg = deg\n",
    "        \n",
    "print('Best degree {} with RMSE {}'.format(min_deg, min_rmse))\n",
    "\n",
    "fig_poly = plt.figure()\n",
    "ax = fig_poly.add_subplot(111)\n",
    "ax.plot(degrees, rmses)\n",
    "ax.set_yscale('log')\n",
    "ax.set_xlabel('Degree')\n",
    "ax.set_label('RMSE')"
   ]
  },
  {
   "cell_type": "code",
   "execution_count": 237,
   "metadata": {},
   "outputs": [
    {
     "data": {
      "text/plain": [
       "Pipeline(memory=None,\n",
       "         steps=[('scaler', MinMaxScaler(copy=True, feature_range=(0, 1))),\n",
       "                ('poly_features',\n",
       "                 PolynomialFeatures(degree=1, include_bias=False,\n",
       "                                    interaction_only=False, order='C')),\n",
       "                ('lin_reg',\n",
       "                 LinearRegression(copy_X=True, fit_intercept=True, n_jobs=None,\n",
       "                                  normalize=False))],\n",
       "         verbose=False)"
      ]
     },
     "execution_count": 237,
     "metadata": {},
     "output_type": "execute_result"
    }
   ],
   "source": [
    "# Use the best degree and pipleline to train data\n",
    "poly_features = PolynomialFeatures(degree=1, include_bias=False)\n",
    "lin_reg = LinearRegression()\n",
    "polynomial_regression = Pipeline((\n",
    "    ('scaler', MinMaxScaler()),\n",
    "    ('poly_features', PolynomialFeatures(degree=1, include_bias=False)),\n",
    "    ('lin_reg', LinearRegression()),\n",
    "))\n",
    "\n",
    "polynomial_regression.fit(X_train, y_train)"
   ]
  },
  {
   "cell_type": "code",
   "execution_count": 242,
   "metadata": {},
   "outputs": [
    {
     "data": {
      "text/plain": [
       "array([-0.00070721, -0.02000039, -0.03172739, -0.01553599, -0.05058144,\n",
       "       -0.04925507, -0.08873503, -0.03719037, -0.06306668, -0.07002931,\n",
       "       -0.05096554, -0.06910281, -0.03991518, -0.01492438, -0.07924728,\n",
       "       -0.07585928, -0.06342989, -0.04444504, -0.04394425, -0.07665149,\n",
       "       -0.07276047, -0.0270497 , -0.05790144, -0.09035701, -0.03854855,\n",
       "       -0.076725  , -0.04352477, -0.0522852 , -0.0540114 , -0.05264571,\n",
       "       -0.07007386, -0.05355148, -0.07134747, -0.10273869, -0.07361491,\n",
       "       -0.03266734, -0.02792043, -0.0580997 , -0.04377025, -0.09090565,\n",
       "       -0.02929531, -0.06795827, -0.09186189, -0.03960765, -0.07955273,\n",
       "       -0.03413239,  0.01130827, -0.04954172, -0.0695525 , -0.03308447,\n",
       "       -0.03404195, -0.0085869 , -0.03456303, -0.04115803, -0.05927193,\n",
       "       -0.0466902 , -0.0531248 , -0.03239074, -0.06456619, -0.06827894,\n",
       "       -0.04839761, -0.0564778 , -0.0806469 , -0.08348482])"
      ]
     },
     "execution_count": 242,
     "metadata": {},
     "output_type": "execute_result"
    }
   ],
   "source": [
    "# Make predictions\n",
    "y_val_pred = polynomial_regression.predict(X_val)"
   ]
  },
  {
   "cell_type": "code",
   "execution_count": 245,
   "metadata": {},
   "outputs": [
    {
     "name": "stdout",
     "output_type": "stream",
     "text": [
      "0.08397990877712401\n"
     ]
    }
   ],
   "source": [
    "# Evaluation on val data\n",
    "mse = mean_squared_error(y_val, y_val_pred)\n",
    "rmse = np.sqrt(mse)\n",
    "print(rmse)"
   ]
  },
  {
   "cell_type": "code",
   "execution_count": 246,
   "metadata": {},
   "outputs": [
    {
     "name": "stdout",
     "output_type": "stream",
     "text": [
      "0.06029287856937393\n"
     ]
    }
   ],
   "source": [
    "# Evaluation on training data\n",
    "y_train_pred = polynomial_regression.predict(X_train)\n",
    "mse_train = mean_squared_error(y_train, y_train_pred)\n",
    "rmse_train = np.sqrt(mse_train)\n",
    "print(rmse_train)"
   ]
  },
  {
   "cell_type": "code",
   "execution_count": 249,
   "metadata": {},
   "outputs": [
    {
     "data": {
      "image/png": "[encoded data removed]",
      "text/plain": [
       "<Figure size 432x288 with 1 Axes>"
      ]
     },
     "metadata": {
      "needs_background": "light"
     },
     "output_type": "display_data"
    }
   ],
   "source": [
    "# Plot prediction v.s. actual\n",
    "plt.plot(polynomial_regression.predict(X_val), y_val, 'o')\n",
    "m, b = np.polyfit(polynomial_regression.predict(X_val), y_val, 1)\n",
    "plt.plot(polynomial_regression.predict(X_val), m*polynomial_regression.predict(X_val) + b)\n",
    "plt.title(\"Actual vs Prediction (Val set)\")\n",
    "plt.xlabel(\"Prediction\")\n",
    "plt.ylabel(\"Actual\")\n",
    "plt.show()"
   ]
  },
  {
   "cell_type": "code",
   "execution_count": 257,
   "metadata": {},
   "outputs": [
    {
     "name": "stdout",
     "output_type": "stream",
     "text": [
      "0.030879902634861376\n"
     ]
    }
   ],
   "source": [
    "# Predict final als_12\n",
    "als12_pred = polynomial_regression.predict(X_als12)\n",
    "mse12 = mean_squared_error(y_als12, als12_pred)\n",
    "rmse12 = np.sqrt(mse12)\n",
    "print(rmse12)"
   ]
  },
  {
   "cell_type": "markdown",
   "metadata": {},
   "source": [
    "## XGBoost"
   ]
  },
  {
   "cell_type": "code",
   "execution_count": 292,
   "metadata": {},
   "outputs": [],
   "source": [
    "import scipy.stats as st\n",
    "one_to_left = st.beta(10, 1)  \n",
    "from_zero_positive = st.expon(0, 50)\n",
    "\n",
    "params = {  \n",
    "    \"n_estimators\": [int(x) for x in np.linspace(start = 200, stop = 2000, num = 10)],\n",
    "    \"max_depth\": [int(x) for x in np.linspace(10, 110, num = 11)],\n",
    "    \"learning_rate\": st.uniform(0.05, 0.4),\n",
    "    \"colsample_bytree\": one_to_left,\n",
    "    \"subsample\": one_to_left,\n",
    "    \"gamma\": st.uniform(0, 10),\n",
    "    'reg_alpha': from_zero_positive,\n",
    "    \"min_child_weight\": from_zero_positive,\n",
    "}\n",
    "\n",
    "xgb_reg = XGBRegressor(nthreads=-1)"
   ]
  },
  {
   "cell_type": "code",
   "execution_count": 293,
   "metadata": {},
   "outputs": [
    {
     "data": {
      "text/plain": [
       "RandomizedSearchCV(cv=None, error_score=nan,\n",
       "                   estimator=XGBRegressor(base_score=0.5, booster='gbtree',\n",
       "                                          colsample_bylevel=1,\n",
       "                                          colsample_bytree=1, gamma=0,\n",
       "                                          learning_rate=0.1, max_delta_step=0,\n",
       "                                          max_depth=3, min_child_weight=1,\n",
       "                                          missing=None, n_estimators=100,\n",
       "                                          n_jobs=1, nthread=None, nthreads=-1,\n",
       "                                          objective='reg:linear',\n",
       "                                          random_state=0, reg_alpha=0,\n",
       "                                          reg_lambda=1, scale_pos_we...\n",
       "                                        'min_child_weight': <scipy.stats._distn_infrastructure.rv_frozen object at 0x12f1a74e0>,\n",
       "                                        'n_estimators': [200, 400, 600, 800,\n",
       "                                                         1000, 1200, 1400, 1600,\n",
       "                                                         1800, 2000],\n",
       "                                        'reg_alpha': <scipy.stats._distn_infrastructure.rv_frozen object at 0x12f1a74e0>,\n",
       "                                        'subsample': <scipy.stats._distn_infrastructure.rv_frozen object at 0x12f1a7c18>},\n",
       "                   pre_dispatch='2*n_jobs', random_state=None, refit=True,\n",
       "                   return_train_score=False, scoring=None, verbose=0)"
      ]
     },
     "execution_count": 293,
     "metadata": {},
     "output_type": "execute_result"
    }
   ],
   "source": [
    "xgb_rs = RandomizedSearchCV(xgb_reg, params, n_jobs=-1)\n",
    "xgb_rs.fit(X_train_scaled, y_train)"
   ]
  },
  {
   "cell_type": "code",
   "execution_count": 294,
   "metadata": {},
   "outputs": [
    {
     "name": "stdout",
     "output_type": "stream",
     "text": [
      "{'colsample_bytree': 0.701919961446498, 'gamma': 5.319267659278406, 'learning_rate': 0.21736647396105208, 'max_depth': 90, 'min_child_weight': 63.25395683764123, 'n_estimators': 400, 'reg_alpha': 1.4642300897447786, 'subsample': 0.9676828709557957}\n"
     ]
    }
   ],
   "source": [
    "print(xgb_rs.best_params_)"
   ]
  },
  {
   "cell_type": "code",
   "execution_count": 295,
   "metadata": {},
   "outputs": [
    {
     "name": "stdout",
     "output_type": "stream",
     "text": [
      "0.09002465253802235\n"
     ]
    }
   ],
   "source": [
    "best_xgb = xgb_rs.best_estimator_\n",
    "y_val_pred = best_xgb.predict(X_val_scaled)\n",
    "mse_xgb = mean_squared_error(y_val, y_val_pred)\n",
    "rmse_xgb = np.sqrt(mse_xgb)\n",
    "print(rmse_xgb)"
   ]
  },
  {
   "cell_type": "code",
   "execution_count": 297,
   "metadata": {},
   "outputs": [
    {
     "name": "stdout",
     "output_type": "stream",
     "text": [
      "0.08997976186337689\n"
     ]
    }
   ],
   "source": [
    "## pipeline of gxboost\n",
    "## final als12 prediction\n",
    "# pipeline for random forest\n",
    "best_xgb = xgb_rs.best_estimator_\n",
    "xgb_pipeline = Pipeline((\n",
    "    ('scaler', MinMaxScaler()),\n",
    "    ('pca', PCA(n_components=0.95)),\n",
    "    ('xgb_reg', best_xgb),\n",
    "))\n",
    "\n",
    "xgb_pipeline.fit(X_train, y_train)\n",
    "\n",
    "y_val_pred = xgb_pipeline.predict(X_val)\n",
    "mse_xgb = mean_squared_error(y_val, y_val_pred)\n",
    "rmse_xgb = np.sqrt(mse_xgb)\n",
    "print(rmse_xgb)"
   ]
  },
  {
   "cell_type": "code",
   "execution_count": null,
   "metadata": {},
   "outputs": [],
   "source": []
  }
 ],
 "metadata": {
  "kernelspec": {
   "display_name": "Python 3",
   "language": "python",
   "name": "python3"
  },
  "language_info": {
   "codemirror_mode": {
    "name": "ipython",
    "version": 3
   },
   "file_extension": ".py",
   "mimetype": "text/x-python",
   "name": "python",
   "nbconvert_exporter": "python",
   "pygments_lexer": "ipython3",
   "version": "3.7.2"
  }
 },
 "nbformat": 4,
 "nbformat_minor": 4
}
